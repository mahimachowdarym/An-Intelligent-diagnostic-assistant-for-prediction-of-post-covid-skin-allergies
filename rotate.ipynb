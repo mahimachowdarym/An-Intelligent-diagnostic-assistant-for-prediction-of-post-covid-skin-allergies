{
 "cells": [
  {
   "cell_type": "code",
   "execution_count": 16,
   "metadata": {},
   "outputs": [],
   "source": [
    "import os,cv2\n",
    "img_path='dataset'\n",
    "for directory in os.listdir(img_path):\n",
    "    count=0\n",
    "    path = os.path.join(img_path, directory)\n",
    "    for item in os.listdir(path):\n",
    "        img = cv2.imread(os.path.join(path, item))\n",
    "        img1=cv2.flip(img,1)\n",
    "        save_path = 'res'+'/'+ directory+str(count)+'.jpg'\n",
    "        cv2.imwrite(save_path,img1)\n",
    "        count+=1"
   ]
  },
  {
   "cell_type": "code",
   "execution_count": null,
   "metadata": {},
   "outputs": [],
   "source": []
  }
 ],
 "metadata": {
  "kernelspec": {
   "display_name": "Python 3",
   "language": "python",
   "name": "python3"
  },
  "language_info": {
   "codemirror_mode": {
    "name": "ipython",
    "version": 3
   },
   "file_extension": ".py",
   "mimetype": "text/x-python",
   "name": "python",
   "nbconvert_exporter": "python",
   "pygments_lexer": "ipython3",
   "version": "3.7.6"
  }
 },
 "nbformat": 4,
 "nbformat_minor": 4
}
