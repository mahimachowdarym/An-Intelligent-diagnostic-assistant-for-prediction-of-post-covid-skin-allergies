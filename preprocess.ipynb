{
 "cells": [
  {
   "cell_type": "code",
   "execution_count": 4,
   "metadata": {},
   "outputs": [],
   "source": [
    "import os,cv2\n",
    "img_path='res'\n",
    "i=0\n",
    "dataset=[]\n",
    "labels=['a','b','c']\n",
    "for directory in os.listdir(img_path):\n",
    "    count=0\n",
    "    path = os.path.join(img_path, directory)\n",
    "    if not os.path.isdir(path):\n",
    "        continue\n",
    "    for item in os.listdir(path):\n",
    "        # to make sure no hidden files get in our way\n",
    "        if item.startswith(\".\"):\n",
    "            continue\n",
    "        img = cv2.imread(os.path.join(path, item))\n",
    "        #img=cv2.cvtColor(img, cv2.COLOR_BGR2GRAY)\n",
    "        img=cv2.Canny(img,100,200)\n",
    "        img = cv2.resize(img, (227, 227))\n",
    "        #img=cv2.flip(img,1)\n",
    "        save_path=directory+str(count)+'.jpg'\n",
    "        #save_path = 'edges'+'/'+directory+'/'+' '+str(count)+'.jpg'\n",
    "        cv2.imwrite(save_path, img)\n",
    "        dataset.append(img)\n",
    "        count=count+1\n",
    "    i=i+1\n",
    "    \n"
   ]
  },
  {
   "cell_type": "code",
   "execution_count": null,
   "metadata": {},
   "outputs": [],
   "source": []
  }
 ],
 "metadata": {
  "kernelspec": {
   "display_name": "Python 3",
   "language": "python",
   "name": "python3"
  },
  "language_info": {
   "codemirror_mode": {
    "name": "ipython",
    "version": 3
   },
   "file_extension": ".py",
   "mimetype": "text/x-python",
   "name": "python",
   "nbconvert_exporter": "python",
   "pygments_lexer": "ipython3",
   "version": "3.7.6"
  }
 },
 "nbformat": 4,
 "nbformat_minor": 4
}
